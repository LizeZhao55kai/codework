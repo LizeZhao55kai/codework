{
 "cells": [
  {
   "cell_type": "code",
   "execution_count": 1,
   "metadata": {},
   "outputs": [],
   "source": [
    "#import the packages that we might use\n",
    "import pandas as pd\n",
    "import numpy as np\n",
    "import os\n",
    "import sys\n",
    "import matplotlib.pyplot as plt\n",
    "import imblearn\n",
    "from sklearn.model_selection import train_test_split,StratifiedKFold\n",
    "from sklearn.ensemble import GradientBoostingRegressor,RandomForestRegressor \n",
    "from sklearn.linear_model import ElasticNet,SGDRegressor,BayesianRidge,LogisticRegression,LinearRegression\n",
    "from sklearn.tree import DecisionTreeRegressor\n",
    "from sklearn import preprocessing\n",
    "from sklearn import utils\n",
    "import pytest"
   ]
  },
  {
   "cell_type": "markdown",
   "metadata": {},
   "source": [
    "<font face=\"Times New Roman\" size=5 color=#000000 > \n",
    "Load the data and build the models"
   ]
  },
  {
   "cell_type": "code",
   "execution_count": 2,
   "metadata": {},
   "outputs": [],
   "source": [
    "#Load the data that have been processed.\n",
    "df = pd.read_csv('10m_each_processed.csv',low_memory=False)\n",
    "#df = pd.read_csv('1m_each_processed.csv',low_memory = False)\n",
    "#df = pd.read_csv('data_df_15million.csv',low_memory = False)"
   ]
  },
  {
   "cell_type": "code",
   "execution_count": null,
   "metadata": {},
   "outputs": [],
   "source": [
    "#Devide the data into X and Y\n",
    "\n",
    "X_data = pd.DataFrame(df, columns=['EESTATU', 'REGION','PROC1_CATEGORIES','PAY','NETPAY','COB','COINS','DEDUCT','AGE','SEX','REVCODE','TIME','INDSTRY',\n",
    "'UNITS','EGEOLOC','HLTHPLAN','QTY','RX','YEAR','DIAGNOSIS_OVERLAY'])\n",
    "Y_data = pd.DataFrame(df, columns = ['CLAIM'])"
   ]
  },
  {
   "cell_type": "code",
   "execution_count": null,
   "metadata": {},
   "outputs": [],
   "source": [
    "# Perform common cleaning and feature engineering tasks on datasets.\n",
    "def prep_dataset(dataset):\n",
    "    \n",
    "    # ONE-HOT ENCODING\n",
    "    \n",
    "    cols = ['EESTATU','PROC1_CATEGORIES','REGION','REVCODE','SEX','INDSTRY','EGEOLOC','HLTHPLAN','RX','YEAR']\n",
    "    \n",
    "    for i in cols:\n",
    "        dummies = pd.get_dummies(dataset[i], prefix = i, drop_first = False)\n",
    "        dataset = pd.concat([dataset, dummies], axis = 1)\n",
    "\n",
    "    return dataset\n",
    "\n",
    "#X_train = prep_dataset(X_train.copy())\n",
    "\n",
    "X_data = prep_dataset(X_data.copy())\n",
    "#X_val = prep_dataset(X_val.copy())\n",
    "print('The dataset has been cleaned and prepared.')"
   ]
  },
  {
   "cell_type": "code",
   "execution_count": null,
   "metadata": {},
   "outputs": [],
   "source": [
    "#Split the training and validation datasets and their labels.\n",
    "X_test, X_val, y_test, y_val = train_test_split(X_data,Y_data,random_state = 1912)\n",
    "print('The testing and test_validation datasets and labels have been split.')"
   ]
  },
  {
   "cell_type": "code",
   "execution_count": null,
   "metadata": {},
   "outputs": [],
   "source": [
    "# Drop unused columns from datasets.\n",
    "def drop_unused(dataset):\n",
    "\n",
    "    # These have been replaced with one-hot encoding.\n",
    "    dataset = dataset.drop(['SEX'], axis = 1)\n",
    "    dataset = dataset.drop(['REVCODE'], axis = 1)\n",
    "    dataset = dataset.drop(['REGION'], axis = 1)\n",
    "    dataset = dataset.drop(['PROC1_CATEGORIES'], axis = 1)\n",
    "    dataset = dataset.drop(['INDSTRY'], axis = 1)\n",
    "    dataset = dataset.drop(['EGEOLOC'], axis = 1)\n",
    "    dataset = dataset.drop(['EESTATU'], axis = 1)\n",
    "    dataset = dataset.drop(['HLTHPLAN'], axis = 1)\n",
    "    dataset = dataset.drop(['RX'], axis = 1)\n",
    "    dataset = dataset.drop(['YEAR'], axis = 1)\n",
    "    \n",
    "    return dataset\n",
    "\n",
    "X_test = drop_unused(X_test.copy())\n",
    "\n",
    "X_val = drop_unused(X_val.copy())\n",
    "\n",
    "print('Columns that will not be used for testing have been dropped.')"
   ]
  },
  {
   "cell_type": "markdown",
   "metadata": {},
   "source": [
    "<font face=\"Times New Roman\" size=5 color=#000000 > \n",
    "Test for five models"
   ]
  },
  {
   "cell_type": "code",
   "execution_count": null,
   "metadata": {},
   "outputs": [],
   "source": [
    "from time import time\n",
    "from sklearn.tree import DecisionTreeRegressor\n",
    "from sklearn.metrics import accuracy_score\n",
    "from sklearn.model_selection import cross_val_score,KFold\n",
    "\n",
    "tree = DecisionTreeRegressor(random_state = 1024)\n",
    "\n",
    "start = time()\n",
    "tree.fit(X_test, np.ravel(y_test.astype(int)))\n",
    "end = time()\n",
    "train_time = (end - start) * 1000\n",
    "\n",
    "prediction = tree.predict(X_val)\n",
    "\n",
    "kf = KFold(n_splits = 5)\n",
    "\n",
    "# Score using the validation data.\n",
    "score = tree.score(X_val, y_val)\n",
    "score_2 = cross_val_score(tree,X_test,y_test,cv = kf)\n",
    "\n",
    "#Adjusted R square score using the validation data\n",
    "n = len(X_val)\n",
    "p = len(X_val.columns) - 1\n",
    "adj_score = 1 - (1 - score)*(n-1)/(n-p-1)\n",
    "\n",
    "print('Decision tree model took {:.2f} milliseconds to fit.'.format(train_time))\n",
    "print('Accuracy: {:.2f}%'.format(score * 100))\n",
    "print('Adjusted R-Square Accuracy: {:.2f}%'.format(adj_score * 100))"
   ]
  },
  {
   "cell_type": "code",
   "execution_count": null,
   "metadata": {},
   "outputs": [],
   "source": [
    "from sklearn.ensemble import RandomForestRegressor\n",
    "\n",
    "start = time()\n",
    "forest = RandomForestRegressor(n_estimators = 100,\n",
    "                                criterion = 'squared_error',\n",
    "                                bootstrap = True,\n",
    "                                oob_score = True,\n",
    "                                random_state = 1024)\n",
    "\n",
    "forest.fit(X_test, np.ravel(y_test))\n",
    "end = time()\n",
    "train_time = (end - start) * 1000\n",
    "\n",
    "prediction = forest.predict(X_val)\n",
    "\n",
    "kf = KFold(n_splits = 5)\n",
    "\n",
    "# Score using the validation data.\n",
    "score = forest.score(X_val, y_val)\n",
    "\n",
    "#Adjusted R square score using the validation data\n",
    "n = len(X_val)\n",
    "p = len(X_val.columns) - 1\n",
    "adj_score = 1 - (1 - score)*(n-1)/(n-p-1)\n",
    "\n",
    "print('Random Forest model took {:.2f} milliseconds to fit.'.format(train_time))\n",
    "print('Accuracy: {:.2f}%'.format(score * 100))\n",
    "print('Adjusted R-Square Accuracy: {:.2f}%'.format(adj_score * 100))"
   ]
  },
  {
   "cell_type": "code",
   "execution_count": null,
   "metadata": {},
   "outputs": [],
   "source": [
    "reg = LinearRegression()\n",
    "reg.fit(X_test,y_test)\n",
    "score = reg.score(X_val,y_val)\n",
    "\n",
    "n = len(X_val)\n",
    "p = len(X_val.columns) - 1\n",
    "adj_score = 1 - (1 - score)*(n-1)/(n-p-1)\n",
    "\n",
    "print('Linear Regression Accuracy: {:.2f}%'.format(score * 100))\n",
    "print('Adjusted R-Square Accuracy: {:.2f}%'.format(adj_score * 100))"
   ]
  },
  {
   "cell_type": "code",
   "execution_count": null,
   "metadata": {},
   "outputs": [],
   "source": [
    "from sklearn import ensemble\n",
    "clf = ensemble.GradientBoostingRegressor(n_estimators = 400, max_depth = 5, min_samples_split = 2,\n",
    "          learning_rate = 0.1, loss = 'ls')\n",
    "clf.fit(X_test, y_test)\n",
    "score = clf.score(X_val,y_val)\n",
    "\n",
    "n = len(X_val)\n",
    "p = len(X_val.columns) - 1\n",
    "adj_score = 1 - (1 - score)*(n-1)/(n-p-1)\n",
    "\n",
    "print('Gradient Boosting Regression model took {:.2f} milliseconds to fit.'.format(train_time))\n",
    "print('Accuracy: {:.2f}%'.format(score * 100))\n",
    "print('Adjusted R-Square Accuracy: {:.2f}%'.format(adj_score * 100))"
   ]
  },
  {
   "cell_type": "code",
   "execution_count": null,
   "metadata": {},
   "outputs": [],
   "source": [
    "from time import time\n",
    "from sklearn.linear_model import Ridge\n",
    "\n",
    "start = time()\n",
    "ridge = Ridge(alpha=1.0)\n",
    "ridge.fit(X_test,y_test)\n",
    "end = time()\n",
    "train_time = (end - start) * 1000\n",
    "\n",
    "prediction = ridge.predict(X_val)\n",
    "\n",
    "# R square score using the validation data.\n",
    "score = ridge.score(X_val, y_val)\n",
    "\n",
    "#Adjusted R square score using the validation data\n",
    "n = len(X_val)\n",
    "p = len(X_val.columns) - 1\n",
    "adj_score = 1 - (1 - score)*(n-1)/(n-p-1)\n",
    "\n",
    "#Print all the indicators that we need\n",
    "print('Ridge Regression model took {:.2f} milliseconds to fit.'.format(train_time))\n",
    "print('Accuracy: {:.2f}%'.format(score * 100))\n",
    "print('Adjusted accuracy: {:.2f}%'.format(adj_score * 100))"
   ]
  }
 ],
 "metadata": {
  "kernelspec": {
   "display_name": "Python 3.8.12 ('MLBDenv')",
   "language": "python",
   "name": "python3"
  },
  "language_info": {
   "codemirror_mode": {
    "name": "ipython",
    "version": 3
   },
   "file_extension": ".py",
   "mimetype": "text/x-python",
   "name": "python",
   "nbconvert_exporter": "python",
   "pygments_lexer": "ipython3",
   "version": "3.8.12"
  },
  "orig_nbformat": 4,
  "vscode": {
   "interpreter": {
    "hash": "50f2e293824000dbce96cb267a22ec3b1a44acf4a996510b7cd68f36ad4aa83b"
   }
  }
 },
 "nbformat": 4,
 "nbformat_minor": 2
}
